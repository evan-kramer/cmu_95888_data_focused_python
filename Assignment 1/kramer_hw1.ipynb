{
 "cells": [
  {
   "cell_type": "markdown",
   "metadata": {},
   "source": [
    "## 2.3 Python Language Basics"
   ]
  },
  {
   "cell_type": "markdown",
   "metadata": {},
   "source": [
    "### Semantics\n",
    "- As with R, use `;` to execute multiple statements on single line\n",
    "- Arguments to functions either named or positional"
   ]
  },
  {
   "cell_type": "code",
   "execution_count": 1,
   "metadata": {},
   "outputs": [
    {
     "name": "stdout",
     "output_type": "stream",
     "text": [
      "range(5, 7)\n",
      "5\n",
      "6\n",
      "6\n",
      "[1, 2, 3]\n",
      "1\n",
      "[1, 2, 3]\n",
      "2\n",
      "[1, 2, 3]\n",
      "3\n",
      "[4, 5, 6]\n",
      "4\n",
      "[4, 5, 6]\n",
      "5\n",
      "[4, 5, 6]\n",
      "6\n"
     ]
    }
   ],
   "source": [
    "a = 5; b = 6; c = 7\n",
    "d = range(a, c, 1)\n",
    "print(d)\n",
    "\n",
    "# Control flow requires indentation and whitespace, not brackets\n",
    "for n in d:\n",
    "    print(n)\n",
    "print(n)\n",
    "\n",
    "sample_list = [[1, 2, 3], [4, 5, 6]]\n",
    "sample_list\n",
    "for i in sample_list:\n",
    "    for j in i: \n",
    "        print(i); print(j)"
   ]
  },
  {
   "cell_type": "markdown",
   "metadata": {},
   "source": [
    "### Assignment\n",
    "- When two variables refer to the same object, changing one changes the underlying object (and therefore the other variable)\n",
    "- Objects created within functions are globally accessible"
   ]
  },
  {
   "cell_type": "code",
   "execution_count": 2,
   "metadata": {},
   "outputs": [
    {
     "name": "stdout",
     "output_type": "stream",
     "text": [
      "b is [1, 2, 4]; a is [1, 2, 4]\n",
      "[range(1, 5)]\n",
      "[1, 2, 3, 4]\n",
      "[range(1, 5), 10]\n",
      "range(1, 5)\n",
      "10\n"
     ]
    }
   ],
   "source": [
    "# Objects assigned to other objects are sort of 'relational' (in that they both point to the same object)\n",
    "a = [1, 2, 3]\n",
    "b = a\n",
    "a.append(4)\n",
    "b\n",
    "# It also works in reverse\n",
    "b.remove(3)\n",
    "print('b is {0}; a is {1}'.format(b, a))\n",
    "\n",
    "# Objects created within functions are globally accessible\n",
    "def append_element(some_list, element):\n",
    "    some_list.append(element)\n",
    "data = [1, 2, 3]\n",
    "append_element(data, 4)\n",
    "data\n",
    "data2 = [range(1, 5, 1)]\n",
    "print(data2)\n",
    "data3 = list(range(1, 5, 1))\n",
    "print(data3)\n",
    "append_element(data2, 10)\n",
    "print(data2)\n",
    "for i in data2:\n",
    "    print(i)"
   ]
  },
  {
   "cell_type": "markdown",
   "metadata": {},
   "source": [
    "### Types and Attributes\n",
    "- Can use `isinstance` to check if  object is of certain type\n",
    "- Access attributes of objects with `.<attribute_name>`\n",
    "    - Use `getattr` to access methods/attributes\n",
    "- Use `is` to check that objects are identical"
   ]
  },
  {
   "cell_type": "code",
   "execution_count": null,
   "metadata": {},
   "outputs": [],
   "source": [
    "# Types (and changing types)\n",
    "a = 5\n",
    "print(type(a))\n",
    "a = 'foo'\n",
    "print(type(a))\n",
    "print(type(append_element))\n",
    "append_element = [10, 100, 1000]\n",
    "print(type(append_element))\n",
    "#'5' + 5 # but types still matter\n",
    "print('5', 5, sep = '')\n",
    "print('\\n')\n",
    "a = 4.5\n",
    "b = 2\n",
    "print('a is {0}, b is {1}'.format(type(a), type(b)))\n",
    "print(a / b)\n",
    "c = 'character'\n",
    "d = 1e10\n",
    "print('c is {0}, d is {1}'.format(type(c), type(d)))\n",
    "a = 5; b = 4.5 \n",
    "print(isinstance(a, (int, float))) # check if object a is either an int or float\n",
    "print(isinstance(b, (int, float))) # check if b is either an int or float\n",
    "print(isinstance(a, (str, bool))) # but it's not a bool or str\n",
    "# What is the type of a `type` output? \n",
    "print(type(type(a))) # seems `type` is its own class\n",
    "print('\\n')\n",
    "\n",
    "# Attributes of objects\n",
    "a = 'foo'\n",
    "print(a.capitalize())\n",
    "print(a.find('o'))\n",
    "print(a.replace('f', 'z'))\n",
    "print(a.upper())\n",
    "print(getattr(a, 'split'))\n",
    "print(a, '\\n')\n",
    "\n",
    "# Duck typing\n",
    "def isiterable(obj):\n",
    "    try:\n",
    "        iter(obj)\n",
    "        return True\n",
    "    except TypeError: # if not iterable\n",
    "        return False\n",
    "print(isiterable('a string'))\n",
    "print(isiterable([1, 2, 3]))\n",
    "print(isiterable(5))\n",
    "print(isiterable([5])) # so you can make an object iterable by repackaging it as a list\n",
    "x = 5\n",
    "print('x is {0}'.format(type(x)))\n",
    "if not isinstance(x, list) and isiterable(x):\n",
    "    x = list(x)\n",
    "print('x is {0}'.format(type(x))) # should this not now be a list? "
   ]
  },
  {
   "cell_type": "markdown",
   "metadata": {},
   "source": [
    "### Importing Modules/Code\n",
    "- Can import objects from other modules"
   ]
  },
  {
   "cell_type": "code",
   "execution_count": 23,
   "metadata": {},
   "outputs": [
    {
     "name": "stdout",
     "output_type": "stream",
     "text": [
      "102\n",
      "3.14159\n",
      "8.14159\n",
      "r1 is: 5.14159 ; r2 is: 9.14159\n"
     ]
    }
   ],
   "source": [
    "# Importing other modules/code\n",
    "import some_module\n",
    "pi = some_module.PI\n",
    "print(some_module.f(x)) # uses the `f` function defined in some_module and the `x` object in the current workspace.\n",
    "print(pi)\n",
    "from some_module import f, g, PI\n",
    "result = g(5, PI)\n",
    "print(result)\n",
    "import some_module as sm\n",
    "from some_module import PI as pi, g as gf\n",
    "r1 = sm.f(pi)\n",
    "r2 = gf(6, pi)\n",
    "print('r1 is:', r1, '; r2 is:', r2)"
   ]
  },
  {
   "cell_type": "markdown",
   "metadata": {},
   "source": [
    "### Operators and Comparisons\n",
    "- `is` checks whether objects are identical\n",
    "    - `list` always creates new list, so checking existing list object against generalized list will return different results\n",
    "    - Common to use `is None`, since only one `None` value\n",
    "    - Can change elements of lists\n",
    "        - But can't of `tuple`s and `str`s"
   ]
  },
  {
   "cell_type": "code",
   "execution_count": 24,
   "metadata": {},
   "outputs": [
    {
     "name": "stdout",
     "output_type": "stream",
     "text": [
      "-2\n",
      "33.5\n",
      "False\n",
      "False\n",
      "False\n",
      "False\n",
      "True\n",
      "True\n",
      "mahimahi\n",
      "True\n",
      "True\n",
      "True\n",
      "True\n",
      "True\n",
      "False\n",
      "True\n",
      "True\n",
      "True\n",
      "\n",
      "\n",
      "['foo', 2, [3, 4]]\n",
      "['foo', 2, 'bar']\n"
     ]
    }
   ],
   "source": [
    "# Binary operators and comparisons\n",
    "print(5-7)\n",
    "print(12 + 21.5)\n",
    "print(5 <= 2)\n",
    "# How does it compare strings? Alphabetize?\n",
    "print('evan' > 'kramer') \n",
    "print('evan' > 'nave')\n",
    "print('evan' == 'nave')\n",
    "print('spell' < 'spool')\n",
    "print('foo' < 'food')\n",
    "print('mahi' * 2)\n",
    "a = [1, 2, 3]\n",
    "b = a\n",
    "c = list(a) # because `list` always creates a new list\n",
    "print(a is b)\n",
    "print(a is not c)\n",
    "print(a == c)\n",
    "b.append(4)\n",
    "a.remove(1)\n",
    "print(a is b)\n",
    "print(c is not b)\n",
    "print(c is [1, 2, 3]) # not the same underlying object\n",
    "print(c == [1, 2, 3]) # but does have the same value(s)\n",
    "a = None\n",
    "print(a is None)\n",
    "print(a == None)\n",
    "print('\\n')\n",
    "\n",
    "# When can types (not) change?\n",
    "a_list = ['foo', 2, [4, 5]]\n",
    "a_list[2] = [3, 4]\n",
    "print(a_list)\n",
    "# Could we change the second element not to be a list? Yep!\n",
    "a_list[2] = 'bar'\n",
    "print(a_list)\n",
    "a_tuple = (3, 5, (4, 5))\n",
    "#a_tuple[1] = 'four' # can't modify strings and tuples\n",
    "a_string = 'evan kramer'\n",
    "#a_string[3] = 't'# testing with str"
   ]
  },
  {
   "cell_type": "markdown",
   "metadata": {},
   "source": [
    "### Numeric Types\n",
    "- Includes `None`, `str`, `bytes`, `float`, `bool`, `int`\n",
    "    - Most numbers are `int` or `float`"
   ]
  },
  {
   "cell_type": "code",
   "execution_count": 25,
   "metadata": {},
   "outputs": [
    {
     "name": "stdout",
     "output_type": "stream",
     "text": [
      "26254519291092456596965462913230729701102721\n",
      "1.5\n",
      "<class 'float'>\n",
      "<class 'int'>\n",
      "<class 'float'>\n",
      "10.0\n",
      "50.0\n",
      "1\n",
      "<class 'int'>\n",
      "<class 'int'>\n"
     ]
    }
   ],
   "source": [
    "ival = 17239871\n",
    "print(ival ** 6)\n",
    "fval = 7.243\n",
    "fval2 = 6.78e-5\n",
    "print(3 / 2) # always yields `float`\n",
    "print(type(1 / 1))\n",
    "print(type(100 ** 100))\n",
    "print(type(100 ** 0.5))\n",
    "print(100 ** 0.5) # sqrt\n",
    "print(100 ** 1/2) # order of operations\n",
    "print(3 // 2) # floor division\n",
    "print(type(3 // 2))\n",
    "print(type(123456 // 10)) # always type `int`"
   ]
  },
  {
   "cell_type": "markdown",
   "metadata": {},
   "source": [
    "### Strings\n",
    "- Can use `'` or `\"`\n",
    "- Use `'''` or `\"\"\"` for multiple-line `str` objects\n",
    "- Use `c.count` to count characters in a string (including `'\\n'`)\n",
    "- Again, cannot modify `str` (but can reassign or use the `.replace` method)\n",
    "- Convert objects with `str`"
   ]
  },
  {
   "cell_type": "code",
   "execution_count": 26,
   "metadata": {},
   "outputs": [
    {
     "name": "stdout",
     "output_type": "stream",
     "text": [
      "3\n",
      "\n",
      "this\n",
      "is\n",
      "a\n",
      "test\n",
      "of \n",
      "strings\n",
      "in \n",
      "Python\n",
      "['', 'this', 'is', 'a', 'test', 'of ', 'strings', 'in ', 'Python']\n",
      "this is a longer string\n",
      "this is a string\n",
      "this is a shorter string\n",
      "thIS IS a longer string\n",
      "\n",
      "\n",
      "5.6\n",
      "a is <class 'float'>; s is <class 'str'>\n"
     ]
    }
   ],
   "source": [
    "a = 'one way of writing a string'\n",
    "b = \"another way\"\n",
    "c = \"\"\"\n",
    "this is a longer string that \n",
    "spans multiple lines\n",
    "\"\"\"\n",
    "print(c.count('\\n'))\n",
    "d = '''\n",
    "this\n",
    "is\n",
    "a\n",
    "test\n",
    "of \n",
    "strings\n",
    "in \n",
    "Python'''\n",
    "print(d.translate('Spanish'))\n",
    "print(d.splitlines())\n",
    "d.swapcase()\n",
    "\n",
    "# Can't change strings\n",
    "a = 'this is a string'\n",
    "#a[10] = 'f'\n",
    "# Need to use .replace instead\n",
    "b = a.replace('string', 'longer string')\n",
    "print(b)\n",
    "print(a) # remains the same\n",
    "# Does it replace all instances? \n",
    "print(b.replace('long', 'short'))\n",
    "print(b.replace('is', \"IS\")) # yep; and is unsuprisingly case-sensitive)\n",
    "print('\\n')\n",
    "\n",
    "# Convert using `str()`\n",
    "a = 5.6\n",
    "s = str(a)\n",
    "print(s)\n",
    "print('a is {0}; s is {1}'.format(type(a), type(s)))"
   ]
  },
  {
   "cell_type": "markdown",
   "metadata": {},
   "source": [
    "### Unicode and Slicing Strings\n",
    "- Can subset (but not change) strings as one would lists\n",
    "    - Can also use `[]`\n",
    "- `\\` is an escape, as in R\n",
    "    - use `r` (raw) in front of strings with lots of `\\` to interpret as is (and therefore avoiding having to retype escape characters over and over again)\n",
    "\n"
   ]
  },
  {
   "cell_type": "code",
   "execution_count": 27,
   "metadata": {
    "scrolled": true
   },
   "outputs": [
    {
     "name": "stdout",
     "output_type": "stream",
     "text": [
      "['p', 'y', 't', 'h', 'o', 'n']\n",
      "pyt\n",
      "<class 'str'>\n",
      "<class 'list'>\n",
      "<class 'list'>\n",
      "\n",
      "\n",
      "12\\34\n",
      "this\\has\\no\\special\\characters\n"
     ]
    }
   ],
   "source": [
    "# Unicode and special characters\n",
    "s = 'python'\n",
    "print(list(s))\n",
    "print(s[:3])\n",
    "print(type(s))\n",
    "print(type(list(s)))\n",
    "# Would this also work with bracket notation? \n",
    "t = ['python']\n",
    "print(type(t)) # appears so\n",
    "print('\\n')\n",
    "\n",
    "s = '12\\\\34' # to use a literal backslash\n",
    "print(s)\n",
    "s = r'this\\has\\no\\special\\characters'\n",
    "print(s)\n"
   ]
  },
  {
   "cell_type": "markdown",
   "metadata": {},
   "source": [
    "### Concatenating and Formatting\n",
    "- Use `+` to concatenate\n",
    "- Various ways to format with `.format` method\n",
    "    - In example...\n",
    "        - `{0:.2f}`: float with two decimals\n",
    "        - `{1:s}`: literal string\n",
    "        - `{2:d}`: exact integer\n",
    "    - More details/examples [here](https://docs.python.org/3/tutorial/inputoutput.html) and [here](https://www.digitalocean.com/community/tutorials/how-to-use-string-formatters-in-python-3)"
   ]
  },
  {
   "cell_type": "code",
   "execution_count": 28,
   "metadata": {},
   "outputs": [
    {
     "name": "stdout",
     "output_type": "stream",
     "text": [
      "this is the first half and this is the second half\n",
      "1615 Kenyon Street NW\n",
      "Washington, DC 20010\n",
      "4.56 Argentine Pesos are worth US$1\n",
      "I've told you 1,000 times! No!\n",
      "I paid $10.01 for this shirt\n",
      "I paid $123,413.41 for this boat.\n",
      "Phone: (415) 269-6180\n"
     ]
    }
   ],
   "source": [
    "a = 'this is the first half '\n",
    "b = 'and this is the second half'\n",
    "print(a + b)\n",
    "snum = 1615\n",
    "street = 'Kenyon'\n",
    "sttype = 'Street'\n",
    "quad = 'NW'\n",
    "city = 'Washington'\n",
    "state = 'DC'\n",
    "zipc = 20010\n",
    "print(str(snum) + ' ' + street + ' ' + sttype + ' ' + quad + '\\n' + city + ',', state + ' ' + str(zipc))\n",
    "\n",
    "# Formatting\n",
    "template = '{0:.02f} {1:s} are worth US${2:d}'\n",
    "print(template.format(4.5560, 'Argentine Pesos', 1))\n",
    "print(\"I've told you {:,} times! No!\".format(1000))\n",
    "print('I paid ${0:.2f} for this shirt'.format(10.01023))\n",
    "print('I paid ${0:,.2f} for this boat.'.format(123413.413312))\n",
    "# Phone number example? \n",
    "phone = 4152696180\n",
    "#phone = 1531525\n",
    "if len(str(phone)) != 10: \n",
    "    print('Check that your phone number includes an area code')\n",
    "else:\n",
    "    phone = str(phone)\n",
    "    print('Phone: (', phone[0:3], ') ', phone[3:6], '-', phone[6:], sep = '')"
   ]
  },
  {
   "cell_type": "markdown",
   "metadata": {},
   "source": [
    "### Bytes, Unicode, and Booleans\n",
    "- May have characters not in UTF-8\n",
    "    - Use `decode` and `encode` methods for bytes\n",
    "    - Use `b` in front of strings for byte literals"
   ]
  },
  {
   "cell_type": "code",
   "execution_count": 29,
   "metadata": {
    "scrolled": true
   },
   "outputs": [
    {
     "name": "stdout",
     "output_type": "stream",
     "text": [
      "español\n",
      "b'espa\\xc3\\xb1ol'\n",
      "<class 'bytes'>\n",
      "español\n",
      "b'espa\\xf1ol'\n",
      "b'\\xff\\xfee\\x00s\\x00p\\x00a\\x00\\xf1\\x00o\\x00l\\x00'\n",
      "b'e\\x00s\\x00p\\x00a\\x00\\xf1\\x00o\\x00l\\x00'\n",
      "b'this is bytes'\n",
      "this is bytes\n",
      "\n",
      "\n",
      "True\n",
      "True\n",
      "True\n",
      "False\n"
     ]
    },
    {
     "data": {
      "text/plain": [
       "'e\\x00sÿ\\x00s\\x00o'"
      ]
     },
     "execution_count": 29,
     "metadata": {},
     "output_type": "execute_result"
    }
   ],
   "source": [
    "val = \"español\"\n",
    "print(val)\n",
    "val_utf8 = val.encode('utf-8')\n",
    "print(val_utf8)\n",
    "print(type(val_utf8))\n",
    "print(val_utf8.decode('utf-8'))\n",
    "print(val.encode('latin1'))\n",
    "print(val.encode('utf-16'))\n",
    "print(val.encode('utf-16le'))\n",
    "bytes_val = b'this is bytes'\n",
    "print(bytes_val)\n",
    "decoded = bytes_val.decode('utf-8') # into Unicode\n",
    "print(decoded)\n",
    "print('\\n')\n",
    "print(True and True)\n",
    "print(False or True)\n",
    "print(not False)\n",
    "print(not False and not True)\n",
    "b'e\\x00s\\xff\\x00s\\x00o'.decode('utf-16') # random binary text to see how it gets decoded\n",
    "b'e\\x00s\\xff\\x00s\\x00o'.decode('latin1') "
   ]
  },
  {
   "cell_type": "markdown",
   "metadata": {},
   "source": [
    "### Type Casting\n",
    "- Each type also a function to change object to that type\n"
   ]
  },
  {
   "cell_type": "code",
   "execution_count": 30,
   "metadata": {},
   "outputs": [
    {
     "name": "stdout",
     "output_type": "stream",
     "text": [
      "<class 'float'>\n",
      "3\n",
      "True\n",
      "False\n",
      "True\n",
      "True\n",
      "True\n",
      "True\n",
      "True\n",
      "True\n",
      "True\n",
      "True\n",
      "True\n",
      "True\n",
      "False\n",
      "True\n",
      "True\n",
      "True\n",
      "True\n",
      "True\n",
      "True\n",
      "True\n",
      "True\n",
      "True\n",
      "True\n",
      "\n",
      "\n",
      "True\n",
      "True\n",
      "True\n",
      "True\n",
      "\n",
      "\n",
      "3\n",
      "9\n",
      "<class 'NoneType'>\n"
     ]
    }
   ],
   "source": [
    "# Type casting\n",
    "s = '3.14159'\n",
    "fval = float(s)\n",
    "print(type(fval))\n",
    "print(int(fval))\n",
    "print(bool(fval))\n",
    "print(bool(0))\n",
    "for i in range(-10, 10):\n",
    "    print(bool(i)) # all except 0\n",
    "print(bool(0.5)) # also true\n",
    "print('\\n')\n",
    "\n",
    "# None type\n",
    "a = None\n",
    "print(a is None)\n",
    "b = 5\n",
    "print(b is not None)\n",
    "print(list is not None)\n",
    "print(type is not None)\n",
    "print('\\n')\n",
    "def add_and_maybe_multiply(a, b, c= None):\n",
    "    result = a + b\n",
    "    if c is not None:\n",
    "        result = result * c\n",
    "    return result\n",
    "print(add_and_maybe_multiply(1, 2))\n",
    "print(add_and_maybe_multiply(1, 2, 3))\n",
    "print(type(None))"
   ]
  },
  {
   "cell_type": "markdown",
   "metadata": {},
   "source": [
    "### Dates/Times\n",
    "- `datetime` module\n",
    "- `strftime` string formatting\n",
    "    - More information [here](https://strftime.org/)\n",
    "- `strptime` for parsing from string\n",
    "- Intervals with `datetime.timedelta`\n",
    "- Use `.replace` method to re-set (e.g., time to 0)"
   ]
  },
  {
   "cell_type": "code",
   "execution_count": 31,
   "metadata": {},
   "outputs": [
    {
     "name": "stdout",
     "output_type": "stream",
     "text": [
      "29\n",
      "30\n",
      "2011-10-29\n",
      "20:30:21\n",
      "10/29/2011 20:30\n",
      "10\n",
      "Oct 29, 2011 20:30\n",
      "Saturday, October 29, 2011\n",
      "Oct 29, 2011 20:30\n",
      "2009-10-31 00:00:00\n",
      "1999-01-12 00:00:00\n",
      "2011-10-29 20:00:00\n",
      "2012-10-29 20:30:21\n",
      "17 days, 1:59:39\n",
      "<class 'datetime.timedelta'>\n",
      "342 days, 0:00:00\n",
      "2011-10-29 20:30:21\n",
      "2011-11-15 22:30:00\n"
     ]
    }
   ],
   "source": [
    "from datetime import datetime, date, time\n",
    "dt = datetime(2011, 10, 29, 20, 30, 21)\n",
    "print(dt.day)\n",
    "print(dt.minute)\n",
    "print(dt.date())\n",
    "print(dt.time())\n",
    "print(dt.strftime('%m/%d/%Y %H:%M'))\n",
    "print(dt.month)\n",
    "print(dt.strftime('%h %d, %Y %H:%M'))\n",
    "print(dt.strftime('%A, %B %d, %Y'))\n",
    "print(dt.strftime('%h %d, %Y %H:%M'))\n",
    "datetime.now\n",
    "print(datetime.strptime('20091031', '%Y%m%d'))\n",
    "print(datetime.strptime('jan1299', '%b%d%y'))\n",
    "print(dt.replace(minute = 0, second = 0))\n",
    "print(dt.replace(year = dt.year + 1))\n",
    "# print(dt.replace(day = dt.day + 7)) # can't do that, as the day is too high for the month\n",
    "dt2 = datetime(2011, 11, 15, 22, 30)\n",
    "delta = dt2 - dt\n",
    "print(delta)\n",
    "print(type(delta))\n",
    "print(datetime.strptime('19880513', '%Y%m%d') - datetime.strptime('19870606', '%Y%m%d'))\n",
    "print(dt)\n",
    "print(dt + delta)"
   ]
  },
  {
   "cell_type": "markdown",
   "metadata": {},
   "source": [
    "### Control Flow\n",
    "- `if`, `elif`, `else`\n",
    "- Multiple comparisons at once (e.g., `0 < x < 10`)\n",
    "- Use `continue` to progress iteration; exit with `break`\n",
    "- Use `pass` as placeholder (need for whitespace)\n",
    "- Create iterators/sequences with `range`\n",
    "- Can write one-line `if-else` with `<value-if-true> if <condition> else <value-if-false>` "
   ]
  },
  {
   "cell_type": "code",
   "execution_count": 32,
   "metadata": {},
   "outputs": [
    {
     "name": "stdout",
     "output_type": "stream",
     "text": [
      "It's negative\n",
      "It's negative\n",
      "Equal to zero\n",
      "Positive but smaller than 5\n",
      "Positive and larger than or equal to 5\n",
      "Positive and larger than or equal to 5\n",
      "Made it\n",
      "True\n",
      "12\n",
      "13\n",
      "(0, 0)\n",
      "(1, 0)\n",
      "(1, 1)\n",
      "(2, 0)\n",
      "(2, 1)\n",
      "(2, 2)\n",
      "(3, 0)\n",
      "(3, 1)\n",
      "(3, 2)\n",
      "(3, 3)\n",
      "128 256\n",
      "64 384\n",
      "32 448\n",
      "16 480\n",
      "8 496\n",
      "4 504\n",
      "positive!\n",
      "range(0, 10)\n",
      "[0, 1, 2, 3, 4, 5, 6, 7, 8, 9]\n",
      "[0, 2, 4, 6, 8, 10, 12, 14, 16, 18]\n",
      "[5, 4, 3, 2, 1]\n",
      "1\n",
      "2\n",
      "3\n",
      "4\n",
      "4\n",
      "2333316668\n",
      "Non-negative\n"
     ]
    }
   ],
   "source": [
    "x = -20\n",
    "if x < 0: \n",
    "    print(\"It's negative\")\n",
    "elif x == 0:\n",
    "    print(\"Equal to zero\")\n",
    "elif 0 < x < 5:\n",
    "    print(\"Positive but smaller than 5\")\n",
    "else:\n",
    "    print(\"Positive and larger than or equal to 5\")\n",
    "    \n",
    "x = [-20, 0, 4, 5, 10]\n",
    "for i in x:\n",
    "    if i < 0: \n",
    "        print(\"It's negative\")\n",
    "    elif i == 0:\n",
    "        print(\"Equal to zero\")\n",
    "    elif 0 < i < 5:\n",
    "        print(\"Positive but smaller than 5\")\n",
    "    else:\n",
    "        print(\"Positive and larger than or equal to 5\")\n",
    "        \n",
    "a = 5; b = 7\n",
    "c = 8; d = 4\n",
    "if a < b or c > d:\n",
    "    print('Made it')\n",
    "print(4 > 3 > 2 > 1)\n",
    "\n",
    "sequence = [1, 2, None, 4, None, 5]\n",
    "total = 0\n",
    "for value in sequence:\n",
    "    if value is None:\n",
    "        continue\n",
    "    total += value\n",
    "print(total)\n",
    "sequence = [1, 2, 0, 4, 6, 5, 2, 1]\n",
    "total_until_5 = 0\n",
    "for value in sequence:\n",
    "    if value == 5:\n",
    "        break\n",
    "    total_until_5 += value\n",
    "print(total_until_5)\n",
    "for i in range(4):\n",
    "    for j in range(4):\n",
    "        if j > i:\n",
    "            break\n",
    "        print((i, j))\n",
    "        \n",
    "x = 256\n",
    "total = 0\n",
    "while x > 0:\n",
    "    if total > 500:\n",
    "        break\n",
    "    total += x\n",
    "    x = x // 2\n",
    "    print(x, total)\n",
    "    \n",
    "if x < 0: \n",
    "    print('negative!')\n",
    "elif x == 0:\n",
    "    # TODO: put something smart here\n",
    "    pass\n",
    "else: \n",
    "    print('positive!')\n",
    "    \n",
    "print(range(10))\n",
    "print(list(range(10)))\n",
    "print(list(range(0, 20, 2)))\n",
    "print(list(range(5, 0, -1)))\n",
    "seq = [1, 2, 3, 4]\n",
    "for i in range(len(seq)):\n",
    "    val = seq[i]\n",
    "    print(val)\n",
    "print(val)\n",
    "sum = 0\n",
    "for i in range(100000):\n",
    "    # % is the modulo operator\n",
    "    if i % 3 == 0 or i % 5 == 0:\n",
    "        sum += i\n",
    "print(sum)\n",
    "x = 5\n",
    "print('Non-negative' if x >= 0 else 'Negative')\n",
    "# Can there be multiple conditions (a la case_when)?"
   ]
  },
  {
   "cell_type": "markdown",
   "metadata": {},
   "source": [
    "## Chapter 3\n",
    "Tuples, lists, dicts, sets"
   ]
  },
  {
   "cell_type": "markdown",
   "metadata": {},
   "source": [
    "### Lists\n",
    "- Can modify items (unlike tuples)\n",
    "    - Add with `append` method\n",
    "    - `insert` inserts new element(s)\n",
    "        - High-cost computation (b/c re-indexing)\n",
    "            - Book suggests `collections.deque` instead\n",
    "    - `pop` removes element at specified index\n",
    "    - `remove` removes __first__ matching value\n",
    "    - Use `in` to check if `val` in `list`"
   ]
  },
  {
   "cell_type": "code",
   "execution_count": 33,
   "metadata": {},
   "outputs": [
    {
     "data": {
      "text/plain": [
       "[2, 3, 0, 1, 4, 9, 16, 25, 36, 49, 64, 81]"
      ]
     },
     "execution_count": 33,
     "metadata": {},
     "output_type": "execute_result"
    }
   ],
   "source": [
    "# Contrast with tuples\n",
    "a_list = [2, 3, 7, None]\n",
    "tup = ('foo', 'bar', 'baz')\n",
    "b_list = list(tup)\n",
    "b_list\n",
    "b_list[1] = 'peekaboo'\n",
    "b_list\n",
    "\n",
    "# Iteration\n",
    "gen = range(10)\n",
    "gen\n",
    "list(gen)\n",
    "list(range(0, 42, 1))\n",
    "\n",
    "# Adding/removing/popping out list elements\n",
    "b_list.append('dwarf')\n",
    "b_list\n",
    "b_list.insert(1, 'red')\n",
    "b_list\n",
    "b_list.pop(2)\n",
    "b_list\n",
    "b_list.append('foo')\n",
    "b_list\n",
    "b_list.remove('foo')\n",
    "b_list\n",
    "'dwarf' in b_list\n",
    "'dwarf' not in b_list\n",
    "for i in range(10):\n",
    "    b_list.append('test{0}'.format(i))\n",
    "    \n",
    "None in a_list\n",
    "a_list.pop(len(a_list) - 1)\n",
    "a_list.pop(-1)\n",
    "for i in range(10):\n",
    "    a_list.append(i ** 2)\n",
    "a_list"
   ]
  },
  {
   "cell_type": "markdown",
   "metadata": {},
   "source": [
    "### Combining and Arranging Lists\n",
    "- Add lists with `+`\n",
    "- Use `extend` to add multiple elements to previously-defined list\n",
    "    - Less costly than concatenating\n",
    "- Can specify a `key` with `sort` that tells how to sort results\n",
    "- Find new element location with `bisect.bisect` and insert with `bisect.insort`\n",
    "    - Need to check that the list is sorted first"
   ]
  },
  {
   "cell_type": "code",
   "execution_count": 34,
   "metadata": {},
   "outputs": [
    {
     "data": {
      "text/plain": [
       "[1, 2, 2, 2, 3, 4, 6, 7]"
      ]
     },
     "execution_count": 34,
     "metadata": {},
     "output_type": "execute_result"
    }
   ],
   "source": [
    "x = [4, None, 'foo']\n",
    "x.extend([7, 8, (2, 3)])\n",
    "x\n",
    "a = [7, 2, 5, 1, 3]\n",
    "a.sort()\n",
    "a\n",
    "b = ['saw', 'small', 'He', 'foxes', 'six']\n",
    "b.sort(key = len)\n",
    "b\n",
    "\n",
    "import bisect\n",
    "c = [1, 2, 2, 2, 3, 4, 7]\n",
    "bisect.bisect(c, 2)\n",
    "bisect.bisect(c, 5)\n",
    "bisect.bisect(c, 0)\n",
    "bisect.insort(c, 6)\n",
    "c"
   ]
  },
  {
   "cell_type": "markdown",
   "metadata": {},
   "source": [
    "### Slicing\n",
    "- Can subset or assign\n",
    "- Omitted index treated as start/end\n",
    "    - `[<from>:<to>:<by>]`\n"
   ]
  },
  {
   "cell_type": "code",
   "execution_count": 35,
   "metadata": {},
   "outputs": [
    {
     "name": "stdout",
     "output_type": "stream",
     "text": [
      "176 ns ± 5.04 ns per loop (mean ± std. dev. of 7 runs, 10000000 loops each)\n",
      "61.5 ns ± 1.81 ns per loop (mean ± std. dev. of 7 runs, 10000000 loops each)\n"
     ]
    }
   ],
   "source": [
    "seq = [7, 2, 3, 7, 5, 6, 0, 1]\n",
    "seq[1:5]\n",
    "seq\n",
    "seq[3:4] = [6, 3]\n",
    "seq\n",
    "seq[:5]\n",
    "seq[3:]\n",
    "seq[-4:]\n",
    "seq[-6:-2] # negative indexed from end\n",
    "seq[::2] # takes every other\n",
    "%timeit -n10000000 seq[::-1] # reverses order\n",
    "%timeit -n10000000 seq.reverse() # which is faster? This one!\n"
   ]
  },
  {
   "cell_type": "markdown",
   "metadata": {},
   "source": [
    "### Sequence Functions\n",
    "- `enumerate` to iterate and note sequence\n",
    "    - Useful for indexing\n",
    "- `sorted` \n",
    "- `zip` pairs elements and generates list of tuples\n",
    "    - Only pairs up to index of shortest sequence\n",
    "    - Can use for multiple iteration (apply?)\n",
    "    - Can also use to \"unzip\"\n",
    "        - `obj1, obj2, ... = zip(*obj_to_unzip)`\n",
    "            - Ensure it has the right dimensions\n",
    "    - Presume it will be useful when creating dicts\n",
    "- `reversed` (opposite of `sorted`)\n",
    "\n",
    "    "
   ]
  },
  {
   "cell_type": "code",
   "execution_count": 37,
   "metadata": {},
   "outputs": [
    {
     "name": "stdout",
     "output_type": "stream",
     "text": [
      "0: foo, one\n",
      "1: bar, two\n",
      "2: baz, three\n",
      "0: Kramer, Michael\n",
      "1: Kramer, Marna\n",
      "2: Kramer, Evan\n",
      "3: Kramer, Allison\n",
      "4: Kramer, Jenna\n"
     ]
    },
    {
     "data": {
      "text/plain": [
       "[(1, 1987),\n",
       " (2, 1988),\n",
       " (3, 1989),\n",
       " (4, 1990),\n",
       " (5, 1991),\n",
       " (6, 1992),\n",
       " (7, 1993),\n",
       " (8, 1994),\n",
       " (9, 1995),\n",
       " (10, 1996),\n",
       " (11, 1997),\n",
       " (12, 1998),\n",
       " (13, 1999),\n",
       " (14, 2000),\n",
       " (15, 2001),\n",
       " (16, 2002),\n",
       " (17, 2003),\n",
       " (18, 2004),\n",
       " (19, 2005),\n",
       " (20, 2006),\n",
       " (21, 2007),\n",
       " (22, 2008),\n",
       " (23, 2009),\n",
       " (24, 2010),\n",
       " (25, 2011),\n",
       " (26, 2012),\n",
       " (27, 2013),\n",
       " (28, 2014),\n",
       " (29, 2015),\n",
       " (30, 2016),\n",
       " (31, 2017),\n",
       " (32, 2018),\n",
       " (33, 2019)]"
      ]
     },
     "execution_count": 37,
     "metadata": {},
     "output_type": "execute_result"
    }
   ],
   "source": [
    "i = 0\n",
    "for v in range(len(seq)):\n",
    "    x = i**i\n",
    "    i += 1\n",
    "for i, v in enumerate(range(len(seq))):\n",
    "    #print(i**i)\n",
    "    pass\n",
    "#print((x, i))\n",
    "some_list = ['foo', 'bar', 'baz']\n",
    "mapping = {}\n",
    "for i, v in enumerate(some_list): \n",
    "    mapping[v] = i\n",
    "mapping\n",
    "\n",
    "sorted([7, 1, 2, 6, 0, 3, 2])\n",
    "sorted('horse race')\n",
    "\n",
    "seq1 = ['foo', 'bar', 'baz']\n",
    "seq2 = ['one', 'two', 'three']\n",
    "zipped = zip(seq1, seq2)\n",
    "zipped # why this structure? Also just learned that Ctrl-/ comments out the whole line (equivalent of Ctrl-Shift-C in R)\n",
    "list(zipped)\n",
    "seq3 = [False, True]\n",
    "list(zip(seq1, seq2, seq3))\n",
    "\n",
    "for i, (a, b) in enumerate(zip(seq1, seq2)):\n",
    "    print('{0}: {1}, {2}'.format(i, a, b))\n",
    "seq1 = ['Kramer'] * 5\n",
    "seq2 = ['Michael', 'Marna', 'Evan', 'Allison', 'Jenna']\n",
    "for i, (last_name, first_name) in enumerate(zip(seq1, seq2)):\n",
    "    print('{0}: {1}, {2}'.format(i, last_name, first_name))\n",
    "    \n",
    "pitchers = [('Nolan', 'Ryan'), ('Roger', 'Clemens'), ('Curt', 'Schilling')]\n",
    "first_names, last_names = zip(*pitchers)\n",
    "first_names\n",
    "last_names\n",
    "\n",
    "list(reversed(range(10)))\n",
    "list(enumerate(some_list))\n",
    "some_list\n",
    "# enumerate?\n",
    "list(enumerate(list(range(1987, 2020)), start = 1))"
   ]
  },
  {
   "cell_type": "markdown",
   "metadata": {},
   "source": [
    "## 3.2 Functions\n",
    "- Define with `def`\n",
    "- Positional and/or named arguments\n",
    "- Use `return` to return from function (otherwise `None` returned)\n",
    "- Requirement: Positional arguments before keyword"
   ]
  },
  {
   "cell_type": "code",
   "execution_count": 38,
   "metadata": {},
   "outputs": [
    {
     "name": "stdout",
     "output_type": "stream",
     "text": [
      "(415) 269-6180\n",
      "Did you forget the area code?\n",
      "(134) 213-4624\n",
      "Based on your current spending of $70,000.12, you will need between $1,400,002.47 and $3,500,006.17 to retire.\n",
      "Based on your current spending of $20,000.00, you will need between $400,000.00 and $1,000,000.00 to retire.\n"
     ]
    }
   ],
   "source": [
    "def my_function(x, y, z = 1.5):\n",
    "    if z > 1:\n",
    "        return z * (x + y)\n",
    "    else:\n",
    "        return z / (x + y)\n",
    "my_function(5, 6, z=0.7)\n",
    "my_function(3.14, 7, 3.5)\n",
    "my_function(10, 20)\n",
    "my_function(x = 1, y = 2, z= 2.5)\n",
    "\n",
    "def parse_phone_number(phone):\n",
    "    phone = str(phone).replace('-', '').replace('(', '').replace(')', '').replace('.', '')\n",
    "    if(len(phone)) == 7:\n",
    "        print(\"Did you forget the area code?\")\n",
    "    elif(len(phone) == 10):\n",
    "        print('(', phone[0:3], ') ', phone[3:6], '-', phone[-4:], sep = '')\n",
    "    else:\n",
    "        print(\"We only accept 7 or 10 digit phone numbers at this time.\\nPlease make sure you entered your phone number correctly.\")\n",
    "parse_phone_number('4()-.152696180')\n",
    "parse_phone_number('8361296')\n",
    "parse_phone_number(1342134624)\n",
    "\n",
    "def when_to_retire(annual_spending):\n",
    "    print(\"Based on your current spending of ${0:,.2f}, you will need between ${1:,.2f} and ${2:,.2f} to retire.\".format(annual_spending, annual_spending * 20, annual_spending * 50))\n",
    "when_to_retire(70000.12341)\n",
    "when_to_retire(20000)\n"
   ]
  },
  {
   "cell_type": "markdown",
   "metadata": {},
   "source": [
    "### Namespaces, Scope, Local Functions\n",
    "- Local vs. global namespaces\n",
    "    - Must define with `global` if should exist outside function\n",
    "- Can `return` multiple values from single function\n"
   ]
  },
  {
   "cell_type": "code",
   "execution_count": 39,
   "metadata": {},
   "outputs": [
    {
     "name": "stdout",
     "output_type": "stream",
     "text": [
      "[]\n"
     ]
    },
    {
     "data": {
      "text/plain": [
       "{'room': 'living room', 'area': '10 sq.m.'}"
      ]
     },
     "execution_count": 39,
     "metadata": {},
     "output_type": "execute_result"
    }
   ],
   "source": [
    "def func():\n",
    "    a = []\n",
    "    for i in range(5):\n",
    "        a.append(i)\n",
    "func()\n",
    "a = []\n",
    "def func():\n",
    "    for i in range(5):\n",
    "        a.append(i)\n",
    "func()\n",
    "a\n",
    "func()\n",
    "a\n",
    "\n",
    "a = None\n",
    "def bind_a_variable():\n",
    "    global a\n",
    "    a = []\n",
    "bind_a_variable()\n",
    "print(a)\n",
    "\n",
    "def f(): \n",
    "    a = 5\n",
    "    b = 6\n",
    "    c = 7\n",
    "    return a, b, c\n",
    "a, b, c = f()\n",
    "f()\n",
    "return_value = f()\n",
    "def f():\n",
    "    a = 5\n",
    "    b = 6\n",
    "    c = 7\n",
    "    return {'a': a, 'b': b, 'c': c}\n",
    "f()\n",
    "\n",
    "# Creates a dict\n",
    "def h():\n",
    "    room = 'living room'; area = '10 sq.m.'; \n",
    "    return {'room': room, 'area': area}\n",
    "h()"
   ]
  },
  {
   "cell_type": "markdown",
   "metadata": {},
   "source": [
    "### Functions as Objects\n",
    "- Define functions with `def`\n",
    "- Pass functions as arguments of other functions\n",
    "- Use `lambda` for anonmyous inline functions\n",
    "    - Useful for `sort(key = <function>)`, e.g.\n",
    "    - Can also build off/adapt existing functions"
   ]
  },
  {
   "cell_type": "code",
   "execution_count": 40,
   "metadata": {},
   "outputs": [
    {
     "name": "stdout",
     "output_type": "stream",
     "text": [
      "   Alabama \n",
      "Georgia\n",
      "Georgia\n",
      "georgia\n",
      "FlOrIda\n",
      "south   carolina\n",
      "West virginia\n"
     ]
    },
    {
     "data": {
      "text/plain": [
       "[\"1204394, '12404', '1234567890'\"]"
      ]
     },
     "execution_count": 40,
     "metadata": {},
     "output_type": "execute_result"
    }
   ],
   "source": [
    "states = ['   Alabama ', 'Georgia!', 'Georgia', 'georgia', 'FlOrIda',\n",
    "          'south   carolina##', 'West virginia?']\n",
    "states\n",
    "import re\n",
    "def clean_strings(strings):\n",
    "    result = []\n",
    "    for value in strings:\n",
    "        value = value.strip()\n",
    "        value = re.sub('[!#?]', '', value)\n",
    "        value = value.title()\n",
    "        result.append(value)\n",
    "    return result\n",
    "clean_strings(states)\n",
    "# Could we condense?\n",
    "def clean_strings2(strings):\n",
    "    result = []\n",
    "    for value in strings:\n",
    "        result.append(re.sub('[!#?]', '', value).strip().title())\n",
    "    return result\n",
    "clean_strings2(states) # Same result with fewer lines of code\n",
    "\n",
    "def remove_punctuation(value):\n",
    "    return re.sub('[!#?]', '', value)\n",
    "\n",
    "clean_ops = [str.strip, remove_punctuation, str.title]\n",
    "\n",
    "def clean_strings(strings, ops):\n",
    "    result = []\n",
    "    for value in strings:\n",
    "        for function in ops:\n",
    "            value = function(value) # can loop through functions\n",
    "        result.append(value)\n",
    "    return result\n",
    "clean_strings(states, clean_ops)\n",
    "\n",
    "for x in map(remove_punctuation, states):\n",
    "    print(x)\n",
    "    \n",
    "def short_function(x):\n",
    "    return x * 2\n",
    "equiv_anon = lambda x: x * 2\n",
    "equiv_anon(100) == short_function(100)\n",
    "def apply_to_list(some_list, f):\n",
    "    return [f(x) for x in some_list]\n",
    "ints = [4, 0, 1, 5, 6]\n",
    "apply_to_list(ints, lambda x: x * 2)\n",
    "\n",
    "strings = ['foo', 'card', 'bar', 'aaaa', 'abab']\n",
    "strings.sort(key = lambda x: len(set(list(x))))\n",
    "strings\n",
    "\n",
    "def add_numbers(x, y):\n",
    "    return x + y\n",
    "add_five = lambda y: add_numbers(5, y)\n",
    "from functools import partial\n",
    "add_five = partial(add_numbers, 5)\n",
    "add_five(25)\n",
    "\n",
    "# Another example of passing multiple functions \n",
    "def remove_chars(string):        \n",
    "    string = str(string)\n",
    "    return [re.sub('[!#?.()\\{\\}\\[\\]-]', '', string)]\n",
    "f_strings = [1204394, '12404-()-(){]}', '123-456-(7890)']\n",
    "remove_chars(f_strings)"
   ]
  },
  {
   "cell_type": "markdown",
   "metadata": {},
   "source": [
    "### Generators\n",
    "- Create generator with `yield` in place of `return`"
   ]
  },
  {
   "cell_type": "code",
   "execution_count": 41,
   "metadata": {},
   "outputs": [
    {
     "name": "stdout",
     "output_type": "stream",
     "text": [
      "a\n",
      "b\n",
      "c\n",
      "Generating squares from 1 to 100\n",
      "1 4 9 16 25 36 49 64 81 100 Generating squares from 1 to 100\n",
      "A ['Alan', 'Adam']\n",
      "W ['Wes', 'Will']\n",
      "A ['Albert']\n",
      "S ['Steven']\n",
      "\n",
      "\n",
      "W ['Will', 'Wes']\n",
      "S ['Steven']\n",
      "A ['Albert', 'Alan', 'Adam']\n",
      "\n",
      "\n",
      "415 ['4158361296', '4152790369']\n",
      "914 ['9146293944']\n",
      "973 ['9739456967']\n"
     ]
    }
   ],
   "source": [
    "some_dict = {'a': 1, 'b': 2, 'c': 3}\n",
    "for key in some_dict:\n",
    "    print(key)\n",
    "dict_iterator = iter(some_dict)\n",
    "dict_iterator\n",
    "list(dict_iterator)\n",
    "def squares(n = 10):\n",
    "    print('Generating squares from 1 to {0}'.format(n ** 2))\n",
    "    for i in range(1, n + 1):\n",
    "        yield i ** 2\n",
    "gen = squares()\n",
    "gen\n",
    "for x in gen: \n",
    "    print(x, end = ' ')\n",
    "# If it were return instead, it would return the results\n",
    "def squares2(n = 10):\n",
    "    print('Generating squares from 1 to {0}'.format(n ** 2))\n",
    "    for i in range(1, n + 1):\n",
    "        return i ** 2\n",
    "squares2()\n",
    "\n",
    "# Even more concise\n",
    "gen = (x ** 2 for i in range(100))\n",
    "gen\n",
    "# Same as...\n",
    "def _make_gen():\n",
    "    for x in range(100):\n",
    "        yield x ** 2\n",
    "gen = _make_gen()\n",
    "\n",
    "# Examples\n",
    "# sum(x ** 2 for x in range(100))\n",
    "dict((i, i **2) for i in range(5))\n",
    "\n",
    "# Itertools\n",
    "import itertools\n",
    "first_letter = lambda x: x[0]\n",
    "names = ['Alan', 'Adam', 'Wes', 'Will', 'Albert', 'Steven']\n",
    "for letter, names in itertools.groupby(names, first_letter):\n",
    "    print(letter, list(names)) # names is a generator; which means we can't sort by it?\n",
    "\n",
    "names2 = str(list(['Alan', 'Adam', 'Wes', 'Will', 'Albert', 'Steven']).sort)\n",
    "for letter, names in itertools.groupby(names, first_letter):\n",
    "#     print(letter, list(names))\n",
    "    pass\n",
    "# itertools.combinations?\n",
    "itertools.combinations(range(5), 3)\n",
    "list(itertools.combinations(range(5), 3))\n",
    "# itertools.permutations?\n",
    "list(itertools.permutations(range(5, 0, -1), 2))\n",
    "list(itertools.product(range(5), range(5)))\n",
    "print('\\n')\n",
    "# More generators/iteration/sorting\n",
    "names = ['Alan', 'Adam', 'Wes', 'Will', 'Albert', 'Steven']\n",
    "names.sort()\n",
    "names.reverse()\n",
    "# names.sort()\n",
    "for letter, names in itertools.groupby(names, lambda x: x[0]):\n",
    "    print(letter, list(names))\n",
    "print('\\n')\n",
    "phones = ['4158361296', '4152790369', '9146293944', '9739456967']\n",
    "for area_code, phone_number in itertools.groupby(phones, lambda x: x[0:3]):\n",
    "    print(area_code, list(phone_number))"
   ]
  },
  {
   "cell_type": "markdown",
   "metadata": {},
   "source": [
    "### Errors and Exceptions\n",
    "- Use `try`/`except` blocks for exceptions\n",
    "    - Specify which kind of error to catch (e.g., `ValueError`, `TypeError`, both, etc.)"
   ]
  },
  {
   "cell_type": "code",
   "execution_count": 48,
   "metadata": {},
   "outputs": [],
   "source": [
    "float(1.2345)\n",
    "# float('something')\n",
    "def attempt_float(x):\n",
    "    try:\n",
    "        return float(x)\n",
    "    except:\n",
    "        return x\n",
    "attempt_float(1.2345)\n",
    "attempt_float('something')\n",
    "\n",
    "# Distinguishing `valueError` and `typeError`\n",
    "# float((1, 2))\n",
    "def attempt_float(x):\n",
    "    try:\n",
    "        return float(x)\n",
    "    except ValueError:\n",
    "        return x\n",
    "# attempt_float((1, 2))\n",
    "\n",
    "def attempt_float(x):\n",
    "    try:\n",
    "        return float(x)\n",
    "    except (ValueError, TypeError):\n",
    "        return x\n",
    "attempt_float((1, 2))\n",
    "\n",
    "# Won't find the path here, since that object gets defined later\n",
    "f = open(path, 'w')\n",
    "\n",
    "# Can you `try` for loops? Not quite\n",
    "def attempt_loop(x):\n",
    "    try:\n",
    "        for i in x:\n",
    "            pass\n",
    "    except:\n",
    "        return x\n",
    "# attempt_loop((range(10))\n",
    "attempt_loop(list(range(11)))"
   ]
  },
  {
   "cell_type": "markdown",
   "metadata": {},
   "source": [
    "## 3.3 Files and OS\n",
    "- Can `open` and `close` files\n",
    "    - Use `with` to close files automatically when done\n",
    "    - Use options `w`, `x`, and `rb` for writeable, writeable (prevents overwriting), and read in binary, respectively\n",
    "        - More in Table 3.3\n",
    "    - Use `tell` to find current position in file\n",
    "    - Use `seek` to change position in file"
   ]
  },
  {
   "cell_type": "code",
   "execution_count": 46,
   "metadata": {},
   "outputs": [
    {
     "data": {
      "text/plain": [
       "[['SueÃ±a el rico en su riqueza,\\n',\n",
       "  'que mÃ¡s cuidados le ofrece;\\n',\n",
       "  '\\n',\n",
       "  'sueÃ±a el pobre que padece\\n',\n",
       "  'su miseria y su pobreza;\\n',\n",
       "  '\\n',\n",
       "  'sueÃ±a el que a medrar empieza,\\n',\n",
       "  'sueÃ±a el que afana y pretende,\\n',\n",
       "  'sueÃ±a el que agravia y ofende,\\n',\n",
       "  '\\n',\n",
       "  'y en el mundo, en conclusiÃ³n,\\n',\n",
       "  'todos sueÃ±an lo que son,\\n',\n",
       "  'aunque ninguno lo entiende.\\n',\n",
       "  '\\n'],\n",
       " ['SueÃ±a el rico en su riqueza,\\n',\n",
       "  'que mÃ¡s cuidados le ofrece;\\n',\n",
       "  'sueÃ±a el pobre que padece\\n',\n",
       "  'su miseria y su pobreza;\\n',\n",
       "  'sueÃ±a el que a medrar empieza,\\n',\n",
       "  'sueÃ±a el que afana y pretende,\\n',\n",
       "  'sueÃ±a el que agravia y ofende,\\n',\n",
       "  'y en el mundo, en conclusiÃ³n,\\n',\n",
       "  'todos sueÃ±an lo que son,\\n',\n",
       "  'aunque ninguno lo entiende.\\n'],\n",
       " ['SueÃ±a el rico en su riqueza,\\n',\n",
       "  'que mÃ¡s cuidados le ofrece;\\n',\n",
       "  'sueÃ±a el pobre que padece\\n',\n",
       "  'su miseria y su pobreza;\\n',\n",
       "  'sueÃ±a el que a medrar empieza,\\n',\n",
       "  'sueÃ±a el que afana y pretende,\\n',\n",
       "  'sueÃ±a el que agravia y ofende,\\n',\n",
       "  'y en el mundo, en conclusiÃ³n,\\n',\n",
       "  'todos sueÃ±an lo que son,\\n',\n",
       "  'aunque ninguno lo entiende.\\n']]"
      ]
     },
     "execution_count": 46,
     "metadata": {},
     "output_type": "execute_result"
    }
   ],
   "source": [
    "import os\n",
    "path = 'examples/segismundo.txt'\n",
    "f = open(path)\n",
    "for line in f:\n",
    "    pass\n",
    "lines = [x.rstrip() for x in open(path)]\n",
    "# lines = [l.rstrip() for l in f] # open(path) should be the same as f here?\n",
    "lines\n",
    "f.close()\n",
    "\n",
    "with open(path) as f:\n",
    "    lines = [x.rstrip() for x in f]\n",
    "lines\n",
    "\n",
    "f = open(path)\n",
    "f.read(10)\n",
    "f2 = open(path, 'rb')\n",
    "f2.read(10)\n",
    "f.tell()\n",
    "f2.tell()\n",
    "\n",
    "import sys\n",
    "sys.getdefaultencoding()\n",
    "f.seek(3)\n",
    "f.read(1)\n",
    "f.tell()\n",
    "f.seek(10)\n",
    "\n",
    "f.close()\n",
    "f2.close()\n",
    "for x in (f, f2):\n",
    "    x.close\n",
    "    \n",
    "with open('tmp.txt', 'w') as handle:\n",
    "    handle.writelines(x for x in open(path) if len(x) > 1)\n",
    "with open('tmp.txt') as f: \n",
    "    lines = f.readlines()\n",
    "lines\n",
    "\n",
    "with open('examples/tmp2.txt', 'w') as handle:\n",
    "    handle.writelines(x for x in open(path) if len(x) > 25)\n",
    "with open('examples/tmp2.txt') as f:\n",
    "    lines = f.readlines()\n",
    "lines\n",
    "\n",
    "result = []\n",
    "for file in os.listdir():\n",
    "    if '.txt' in str(file):\n",
    "#         print(file)\n",
    "        pass\n",
    "        with open(file) as f:\n",
    "            result.append(f.readlines())\n",
    "result\n",
    "result[0]\n",
    "result.append(result[-1])\n",
    "result"
   ]
  },
  {
   "cell_type": "markdown",
   "metadata": {},
   "source": [
    "### Bytes and Unicode with Files\n",
    "- Use `decode` for text with non-UTF characters"
   ]
  },
  {
   "cell_type": "code",
   "execution_count": 47,
   "metadata": {},
   "outputs": [
    {
     "name": "stdout",
     "output_type": "stream",
     "text": [
      "SueÃ±a el \n",
      "['', 'S', 'ue', 'Ã±a', ' el ', 'rico ', 'en su ', 'riqueza', ',\\nque mÃ', '¡s cuidad']\n",
      "[' el po', ' padece', 'ria y su', '\\n\\nsueÃ±a ']\n"
     ]
    }
   ],
   "source": [
    "with open(path) as f:\n",
    "    chars = f.read(10)\n",
    "chars\n",
    "with open(path, 'rb') as f: \n",
    "    data = f.read(10)\n",
    "data\n",
    "# data[:4].decode('utf8')\n",
    "data.decode('utf8')\n",
    "\n",
    "sink_path = 'sink.txt'\n",
    "with open(path) as source:\n",
    "#     with(open(sink_path, 'xt', encoding='iso-8859-1')) as sink:\n",
    "    with(open(sink_path, 'w', encoding = 'iso-8859-1')) as sink:\n",
    "        sink.write(source.read())\n",
    "with open(sink_path, encoding='iso-8859-1') as f:\n",
    "    print(f.read(10))\n",
    "\n",
    "f = open(path)\n",
    "f.read(5)\n",
    "f.seek(4)\n",
    "f.read(1)\n",
    "f.close()\n",
    "\n",
    "with open(path) as f:\n",
    "    [f.read(x) for x in list(range(10))]\n",
    "f = open(path)\n",
    "print([f.read(x) for x in list(range(10))])\n",
    "print([f.read(x) for x in list(range(10)) if len(f.read(x)) > 5])\n",
    "f.close()"
   ]
  }
 ],
 "metadata": {
  "kernelspec": {
   "display_name": "Python 3",
   "language": "python",
   "name": "python3"
  },
  "language_info": {
   "codemirror_mode": {
    "name": "ipython",
    "version": 3
   },
   "file_extension": ".py",
   "mimetype": "text/x-python",
   "name": "python",
   "nbconvert_exporter": "python",
   "pygments_lexer": "ipython3",
   "version": "3.7.6"
  }
 },
 "nbformat": 4,
 "nbformat_minor": 4
}
